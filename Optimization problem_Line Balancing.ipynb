{
 "cells": [
  {
   "cell_type": "code",
   "execution_count": 1,
   "metadata": {},
   "outputs": [],
   "source": [
    "# Import packages\n",
    "import pandas as pd\n",
    "import matplotlib.pyplot as plt\n",
    "import numpy as np\n",
    "import scipy.stats as st\n",
    "import docplex\n",
    "from docplex.mp.model import Model\n",
    "rn = np.random\n",
    "rn.seed(1)"
   ]
  },
  {
   "cell_type": "markdown",
   "metadata": {},
   "source": [
    "# Line balancing problem\n"
   ]
  },
  {
   "cell_type": "markdown",
   "metadata": {},
   "source": [
    "## Input Data\n"
   ]
  },
  {
   "cell_type": "code",
   "execution_count": 2,
   "metadata": {},
   "outputs": [],
   "source": [
    "# Available operating time\n",
    "T = 480  # minutes\n",
    "\n",
    "# Precedence relations\n",
    "precedence = [\n",
    "    [0, 1, 1, 0, 0, 0, 0, 0],\n",
    "    [0, 0, 0, 1, 0, 0, 0, 0],\n",
    "    [0, 0, 0, 0, 1, 1, 0, 0],\n",
    "    [0, 0, 0, 0, 0, 0, 1, 0],\n",
    "    [0, 0, 0, 0, 0, 0, 1, 0],\n",
    "    [0, 0, 0, 0, 0, 0, 0, 1],\n",
    "    [0, 0, 0, 0, 0, 0, 0, 1],\n",
    "    [0, 0, 0, 0, 0, 0, 0, 0],\n",
    "]\n",
    "\n",
    "# Required time for tasks\n",
    "t = [5, 7, 6, 8, 6, 4, 3, 7]\n",
    "\n",
    "# Possible stations\n",
    "max_num_stations = 8"
   ]
  },
  {
   "cell_type": "markdown",
   "metadata": {},
   "source": [
    "## Part a: Optimal objective value, when demand D = 32\n"
   ]
  },
  {
   "cell_type": "markdown",
   "metadata": {},
   "source": [
    "#### Create a model instance"
   ]
  },
  {
   "cell_type": "code",
   "execution_count": 3,
   "metadata": {},
   "outputs": [],
   "source": [
    "model = Model(name='line balancing problem')"
   ]
  },
  {
   "cell_type": "markdown",
   "metadata": {},
   "source": [
    "#### Define indices"
   ]
  },
  {
   "cell_type": "code",
   "execution_count": 4,
   "metadata": {},
   "outputs": [],
   "source": [
    "# When demand equal 32\n",
    "D = 32\n",
    "\n",
    "# Tasks\n",
    "tasks = np.arange(0, 8)\n",
    "\n",
    "# Stations\n",
    "stations = np.arange(0, 8)\n",
    "\n",
    "# Takt time\n",
    "c = T / D"
   ]
  },
  {
   "cell_type": "markdown",
   "metadata": {},
   "source": [
    "#### Define decision variables"
   ]
  },
  {
   "cell_type": "code",
   "execution_count": 5,
   "metadata": {},
   "outputs": [],
   "source": [
    "# Which task is assign to which station\n",
    "X = model.binary_var_matrix(tasks, stations, name='Task i to station m')\n",
    "\n",
    "# Whether station is opened or not\n",
    "Z = model.binary_var_dict(stations, name='Station opened or not')"
   ]
  },
  {
   "cell_type": "markdown",
   "metadata": {},
   "source": [
    "#### Define constraints"
   ]
  },
  {
   "cell_type": "code",
   "execution_count": 6,
   "metadata": {},
   "outputs": [],
   "source": [
    "# One task assigned to one station\n",
    "for i in tasks:\n",
    "    model.add_constraint(model.sum(X[i,m] for m in stations) == 1)\n",
    "    \n",
    "# Takt time not violated\n",
    "for m in stations:\n",
    "    model.add_constraint(model.sum(t[i] * X[i,m] for i in tasks) <= c * Z[m])\n",
    "    \n",
    "# Precedence relation\n",
    "n_tasks = 8\n",
    "for r in range(n_tasks):\n",
    "    for s in range(n_tasks):\n",
    "        if precedence[r][s] == 1:\n",
    "            model.add_constraint(model.sum(m * X[r,m] for m in stations) <= model.sum(m * X[s,m] for m in stations))\n"
   ]
  },
  {
   "cell_type": "markdown",
   "metadata": {},
   "source": [
    "#### Define linear expression"
   ]
  },
  {
   "cell_type": "code",
   "execution_count": 7,
   "metadata": {},
   "outputs": [],
   "source": [
    "Y = model.sum(Z[m] for m in stations)"
   ]
  },
  {
   "cell_type": "markdown",
   "metadata": {},
   "source": [
    "#### Define objective function"
   ]
  },
  {
   "cell_type": "code",
   "execution_count": 8,
   "metadata": {},
   "outputs": [],
   "source": [
    "model.minimize(Y)"
   ]
  },
  {
   "cell_type": "markdown",
   "metadata": {},
   "source": [
    "#### Solve model"
   ]
  },
  {
   "cell_type": "code",
   "execution_count": 9,
   "metadata": {},
   "outputs": [
    {
     "data": {
      "text/plain": [
       "docplex.mp.solution.SolveSolution(obj=4,values={Task i to station m_0_0:.."
      ]
     },
     "execution_count": 9,
     "metadata": {},
     "output_type": "execute_result"
    }
   ],
   "source": [
    "model.solve()"
   ]
  },
  {
   "cell_type": "markdown",
   "metadata": {},
   "source": [
    "#### Print result"
   ]
  },
  {
   "cell_type": "code",
   "execution_count": 11,
   "metadata": {},
   "outputs": [
    {
     "name": "stdout",
     "output_type": "stream",
     "text": [
      "Optimal objective value (total number of opened stations) is 4.0.\n"
     ]
    }
   ],
   "source": [
    "print(f'Optimal objective value (total number of opened stations) is {model.objective_value}.')"
   ]
  },
  {
   "cell_type": "code",
   "execution_count": 14,
   "metadata": {},
   "outputs": [
    {
     "data": {
      "text/plain": [
       "'integer optimal solution'"
      ]
     },
     "execution_count": 14,
     "metadata": {},
     "output_type": "execute_result"
    }
   ],
   "source": [
    "model.solve_details.status"
   ]
  },
  {
   "cell_type": "markdown",
   "metadata": {},
   "source": [
    "## Part b: What is the maximum demand?\n"
   ]
  },
  {
   "cell_type": "code",
   "execution_count": 10,
   "metadata": {},
   "outputs": [
    {
     "name": "stdout",
     "output_type": "stream",
     "text": [
      "[33, 34, 35, 36, 37, 38, 39, 40, 41, 42, 43, 44, 45, 46, 47, 48, 49, 50, 51, 52, 53, 54, 55, 56, 57, 58, 59, 60, 61]\n"
     ]
    }
   ],
   "source": [
    "# Solution to (2-b)\n",
    "# Loop until the result is infeasible\n",
    "d = 32\n",
    "possible_demand = []\n",
    "while model.solve_details.status == 'integer optimal solution':\n",
    "    d = d+1\n",
    "    c = T/d\n",
    "    \n",
    "    for i in tasks:\n",
    "        model.add_constraint(model.sum(X[i,m] for m in stations) == 1)\n",
    "    \n",
    "\n",
    "    for m in stations:\n",
    "        model.add_constraint(model.sum(t[i] * X[i,m] for i in tasks) <= c * Z[m])\n",
    "\n",
    "    n_tasks = 8\n",
    "    for r in range(n_tasks):\n",
    "        for s in range(n_tasks):\n",
    "            if precedence[r][s] == 1:\n",
    "                model.add_constraint(model.sum(m * X[r,m] for m in stations) <= model.sum(m * X[s,m] for m in stations))\n",
    "    \n",
    "    Y = model.sum(Z[m] for m in stations)\n",
    "    \n",
    "    model.minimize(Y)\n",
    "    \n",
    "    model.solve()\n",
    "    \n",
    "    possible_demand.append(d)\n",
    "    \n",
    "print(possible_demand)    \n"
   ]
  },
  {
   "cell_type": "code",
   "execution_count": 12,
   "metadata": {},
   "outputs": [
    {
     "name": "stdout",
     "output_type": "stream",
     "text": [
      "Maximum possible demand is 61.\n"
     ]
    }
   ],
   "source": [
    "print(f'Maximum possible demand is {max(possible_demand)}.')"
   ]
  },
  {
   "cell_type": "markdown",
   "metadata": {},
   "source": [
    "## Part c: When total demand is stochastic and follows an uniform distribution\n"
   ]
  },
  {
   "cell_type": "code",
   "execution_count": 13,
   "metadata": {},
   "outputs": [
    {
     "name": "stdout",
     "output_type": "stream",
     "text": [
      "Mean of sampled data is 39.57633782800437.\n",
      "Coefficient of variation of sampled data is 0.2231648312694112.\n"
     ]
    }
   ],
   "source": [
    "# Generate a sample of size 100\n",
    "sample = st.uniform.rvs(size=100, loc=25, scale=30)\n",
    "\n",
    "# Mean of sampled data\n",
    "print(f'Mean of sampled data is {sample.mean()}.')\n",
    "\n",
    "# Coefficient of variation of sampled data\n",
    "print(f'Coefficient of variation of sampled data is {sample.std() / sample.mean()}.')"
   ]
  },
  {
   "cell_type": "code",
   "execution_count": null,
   "metadata": {},
   "outputs": [],
   "source": []
  }
 ],
 "metadata": {
  "kernelspec": {
   "display_name": "Python 3 (ipykernel)",
   "language": "python",
   "name": "python3"
  },
  "language_info": {
   "codemirror_mode": {
    "name": "ipython",
    "version": 3
   },
   "file_extension": ".py",
   "mimetype": "text/x-python",
   "name": "python",
   "nbconvert_exporter": "python",
   "pygments_lexer": "ipython3",
   "version": "3.10.9"
  }
 },
 "nbformat": 4,
 "nbformat_minor": 2
}
