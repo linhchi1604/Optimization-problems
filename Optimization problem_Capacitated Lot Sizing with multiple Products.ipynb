{
 "cells": [
  {
   "cell_type": "code",
   "execution_count": 1,
   "id": "1cde355a",
   "metadata": {},
   "outputs": [],
   "source": [
    "# Import all packages\n",
    "import pandas as pd\n",
    "import numpy as np\n",
    "rn = np.random\n",
    "rn.seed(1)\n",
    "import matplotlib.pyplot as plt\n",
    "import docplex\n",
    "from docplex.mp.model import Model"
   ]
  },
  {
   "cell_type": "markdown",
   "id": "e8debf41",
   "metadata": {},
   "source": [
    "## Part a: CLSP Optimization Problem"
   ]
  },
  {
   "cell_type": "markdown",
   "id": "e9dd89ea",
   "metadata": {},
   "source": [
    "#### Create a model instance"
   ]
  },
  {
   "cell_type": "code",
   "execution_count": 2,
   "id": "1a347896",
   "metadata": {},
   "outputs": [],
   "source": [
    "model = Model(name='CLSP with multiple products')"
   ]
  },
  {
   "cell_type": "markdown",
   "id": "ffe75b50",
   "metadata": {},
   "source": [
    "#### Define sets and indices"
   ]
  },
  {
   "cell_type": "code",
   "execution_count": 3,
   "id": "bb9e5449",
   "metadata": {},
   "outputs": [],
   "source": [
    "# Read excel file\n",
    "df = pd.read_excel('lotsizing.xlsx', sheet_name=['demand', 'costs', 'production_parameters', 'production_coefficients', 'starting_inventories'])"
   ]
  },
  {
   "cell_type": "code",
   "execution_count": 8,
   "id": "4634fa1c",
   "metadata": {},
   "outputs": [],
   "source": [
    "# Products and periods\n",
    "products = [1, 2]\n",
    "periods = [1, 2, 3, 4, 5]\n",
    "\n",
    "# Demand of each product in each periods\n",
    "demand = df['demand'].set_index('period')\n",
    "\n",
    "# Production capacity per period\n",
    "c = df['production_parameters'].set_index('parameter').loc['capacity per period', 'value']\n",
    "\n",
    "# Inventory holding cost per unit per product per period\n",
    "c_int = df['costs'].set_index('product')['inventory costs per unit and period']\n",
    "\n",
    "# Setup cost per setup process for product\n",
    "c_setup = df['costs'].set_index('product')['setup costs per setup']\n",
    "\n",
    "# BigM\n",
    "bigM = df['production_parameters'].set_index('parameter').loc['BigM', 'value']\n",
    "\n",
    "# Capacity consumption for product\n",
    "a = df['production_coefficients'].set_index('product')['production coefficient']\n",
    "\n",
    "# Initial inventory level\n",
    "L0 = df['starting_inventories'].set_index('product')['initial inventory']"
   ]
  },
  {
   "cell_type": "markdown",
   "id": "a21690eb",
   "metadata": {},
   "source": [
    "#### Define decision variables"
   ]
  },
  {
   "cell_type": "code",
   "execution_count": 9,
   "id": "90d3939a",
   "metadata": {},
   "outputs": [],
   "source": [
    "# Production quantity per product per period\n",
    "X = model.integer_var_matrix(products, periods, name='Production quantity')\n",
    "\n",
    "# Inventory level of each product at the end of each period\n",
    "Y = model.integer_var_matrix(products, periods, name='Inventory level')\n",
    "\n",
    "# Setup occurs or not for each product per period\n",
    "T = model.binary_var_matrix(products, periods, name='Setup or not')"
   ]
  },
  {
   "cell_type": "markdown",
   "id": "3746bba9",
   "metadata": {},
   "source": [
    "#### Define constraints"
   ]
  },
  {
   "cell_type": "code",
   "execution_count": 10,
   "id": "74b783e4",
   "metadata": {},
   "outputs": [
    {
     "data": {
      "text/plain": [
       "[docplex.mp.LinearConstraint[](Inventory level_1_1,GE,0),\n",
       " docplex.mp.LinearConstraint[](Inventory level_1_2,GE,0),\n",
       " docplex.mp.LinearConstraint[](Inventory level_1_3,GE,0),\n",
       " docplex.mp.LinearConstraint[](Inventory level_1_4,GE,0),\n",
       " docplex.mp.LinearConstraint[](Inventory level_1_5,GE,0),\n",
       " docplex.mp.LinearConstraint[](Inventory level_2_1,GE,0),\n",
       " docplex.mp.LinearConstraint[](Inventory level_2_2,GE,0),\n",
       " docplex.mp.LinearConstraint[](Inventory level_2_3,GE,0),\n",
       " docplex.mp.LinearConstraint[](Inventory level_2_4,GE,0),\n",
       " docplex.mp.LinearConstraint[](Inventory level_2_5,GE,0)]"
      ]
     },
     "execution_count": 10,
     "metadata": {},
     "output_type": "execute_result"
    }
   ],
   "source": [
    "# Inventory level equation\n",
    "for t in periods:\n",
    "    if t == 1:\n",
    "        model.add_constraints(Y[p, 1] == L0[p] + X[p, 1] - demand.loc[p, 1] for p in products)\n",
    "    else:\n",
    "        model.add_constraints(Y[p, t] == Y[p, t-1] + X[p,t] - demand.loc[p,t] for p in products)\n",
    "\n",
    "# Setup or not\n",
    "for t in periods:\n",
    "    for p in products:\n",
    "        model.add_constraint(X[p,t] <= bigM * T[p,t])\n",
    "\n",
    "# Production capacity\n",
    "for t in periods:\n",
    "    model.add_constraint(model.sum(a[p] * X[p,t] for p in products) <= c)\n",
    "\n",
    "# Non-negative values\n",
    "model.add_constraints(X[p,t] >= 0 for p in products for t in periods)\n",
    "model.add_constraints(Y[p,t] >= 0 for p in products for t in periods)"
   ]
  },
  {
   "cell_type": "markdown",
   "id": "a168c55f",
   "metadata": {},
   "source": [
    "#### Define linear expression"
   ]
  },
  {
   "cell_type": "code",
   "execution_count": 11,
   "id": "2f30dfab",
   "metadata": {},
   "outputs": [],
   "source": [
    "# Total cost = total inventory cost + total setup cost\n",
    "Z = model.sum(c_int[p] * Y[p,t] + c_setup[p] * T[p,t] for p in products for t in periods)"
   ]
  },
  {
   "cell_type": "markdown",
   "id": "9cc7e92a",
   "metadata": {},
   "source": [
    "#### Define objective function"
   ]
  },
  {
   "cell_type": "code",
   "execution_count": 12,
   "id": "06754a01",
   "metadata": {},
   "outputs": [],
   "source": [
    "model.minimize(Z)"
   ]
  },
  {
   "cell_type": "markdown",
   "id": "3393c961",
   "metadata": {},
   "source": [
    "#### Solve model"
   ]
  },
  {
   "cell_type": "code",
   "execution_count": 13,
   "id": "ddff9226",
   "metadata": {},
   "outputs": [
    {
     "data": {
      "text/plain": [
       "docplex.mp.solution.SolveSolution(obj=591120,values={Production quantity.."
      ]
     },
     "execution_count": 13,
     "metadata": {},
     "output_type": "execute_result"
    }
   ],
   "source": [
    "model.solve()"
   ]
  },
  {
   "cell_type": "markdown",
   "id": "d7dee1b8",
   "metadata": {},
   "source": [
    "#### Store result in a DataFrame"
   ]
  },
  {
   "cell_type": "code",
   "execution_count": 16,
   "id": "8fd659fe",
   "metadata": {},
   "outputs": [
    {
     "data": {
      "text/html": [
       "<div>\n",
       "<style scoped>\n",
       "    .dataframe tbody tr th:only-of-type {\n",
       "        vertical-align: middle;\n",
       "    }\n",
       "\n",
       "    .dataframe tbody tr th {\n",
       "        vertical-align: top;\n",
       "    }\n",
       "\n",
       "    .dataframe thead th {\n",
       "        text-align: right;\n",
       "    }\n",
       "</style>\n",
       "<table border=\"1\" class=\"dataframe\">\n",
       "  <thead>\n",
       "    <tr style=\"text-align: right;\">\n",
       "      <th></th>\n",
       "      <th>1</th>\n",
       "      <th>2</th>\n",
       "      <th>3</th>\n",
       "      <th>4</th>\n",
       "      <th>5</th>\n",
       "      <th>All periods</th>\n",
       "    </tr>\n",
       "  </thead>\n",
       "  <tbody>\n",
       "    <tr>\n",
       "      <th>Prod quant p1</th>\n",
       "      <td>117060.000000</td>\n",
       "      <td>44720.0</td>\n",
       "      <td>0.0</td>\n",
       "      <td>0.000000</td>\n",
       "      <td>0.0</td>\n",
       "      <td>161780.000000</td>\n",
       "    </tr>\n",
       "    <tr>\n",
       "      <th>Prod quant p2</th>\n",
       "      <td>0.000000</td>\n",
       "      <td>135280.0</td>\n",
       "      <td>96000.0</td>\n",
       "      <td>126000.000000</td>\n",
       "      <td>180000.0</td>\n",
       "      <td>537280.000000</td>\n",
       "    </tr>\n",
       "    <tr>\n",
       "      <th>Total production</th>\n",
       "      <td>117060.000000</td>\n",
       "      <td>180000.0</td>\n",
       "      <td>96000.0</td>\n",
       "      <td>126000.000000</td>\n",
       "      <td>180000.0</td>\n",
       "      <td>699060.000000</td>\n",
       "    </tr>\n",
       "    <tr>\n",
       "      <th>Inventory p1</th>\n",
       "      <td>54560.000000</td>\n",
       "      <td>0.0</td>\n",
       "      <td>0.0</td>\n",
       "      <td>0.000000</td>\n",
       "      <td>0.0</td>\n",
       "      <td>54560.000000</td>\n",
       "    </tr>\n",
       "    <tr>\n",
       "      <th>Inventory p2</th>\n",
       "      <td>0.000000</td>\n",
       "      <td>0.0</td>\n",
       "      <td>0.0</td>\n",
       "      <td>31000.000000</td>\n",
       "      <td>0.0</td>\n",
       "      <td>31000.000000</td>\n",
       "    </tr>\n",
       "    <tr>\n",
       "      <th>Inventory costs</th>\n",
       "      <td>109120.000000</td>\n",
       "      <td>0.0</td>\n",
       "      <td>0.0</td>\n",
       "      <td>62000.000000</td>\n",
       "      <td>0.0</td>\n",
       "      <td>171120.000000</td>\n",
       "    </tr>\n",
       "    <tr>\n",
       "      <th>Setup costs</th>\n",
       "      <td>70000.000000</td>\n",
       "      <td>140000.0</td>\n",
       "      <td>70000.0</td>\n",
       "      <td>70000.000000</td>\n",
       "      <td>70000.0</td>\n",
       "      <td>420000.000000</td>\n",
       "    </tr>\n",
       "    <tr>\n",
       "      <th>Total costs</th>\n",
       "      <td>179120.000000</td>\n",
       "      <td>140000.0</td>\n",
       "      <td>70000.0</td>\n",
       "      <td>132000.000000</td>\n",
       "      <td>70000.0</td>\n",
       "      <td>591120.000000</td>\n",
       "    </tr>\n",
       "    <tr>\n",
       "      <th>%setup/total</th>\n",
       "      <td>0.390799</td>\n",
       "      <td>1.0</td>\n",
       "      <td>1.0</td>\n",
       "      <td>0.530303</td>\n",
       "      <td>1.0</td>\n",
       "      <td>0.710516</td>\n",
       "    </tr>\n",
       "  </tbody>\n",
       "</table>\n",
       "</div>"
      ],
      "text/plain": [
       "                              1         2        3              4         5  \\\n",
       "Prod quant p1     117060.000000   44720.0      0.0       0.000000       0.0   \n",
       "Prod quant p2          0.000000  135280.0  96000.0  126000.000000  180000.0   \n",
       "Total production  117060.000000  180000.0  96000.0  126000.000000  180000.0   \n",
       "Inventory p1       54560.000000       0.0      0.0       0.000000       0.0   \n",
       "Inventory p2           0.000000       0.0      0.0   31000.000000       0.0   \n",
       "Inventory costs   109120.000000       0.0      0.0   62000.000000       0.0   \n",
       "Setup costs        70000.000000  140000.0  70000.0   70000.000000   70000.0   \n",
       "Total costs       179120.000000  140000.0  70000.0  132000.000000   70000.0   \n",
       "%setup/total           0.390799       1.0      1.0       0.530303       1.0   \n",
       "\n",
       "                    All periods  \n",
       "Prod quant p1     161780.000000  \n",
       "Prod quant p2     537280.000000  \n",
       "Total production  699060.000000  \n",
       "Inventory p1       54560.000000  \n",
       "Inventory p2       31000.000000  \n",
       "Inventory costs   171120.000000  \n",
       "Setup costs       420000.000000  \n",
       "Total costs       591120.000000  \n",
       "%setup/total           0.710516  "
      ]
     },
     "execution_count": 16,
     "metadata": {},
     "output_type": "execute_result"
    }
   ],
   "source": [
    "# Initialize an empty dataframe\n",
    "result = pd.DataFrame(index=['Prod quant p1', 'Prod quant p2', 'Total production', 'Inventory p1', 'Inventory p2', 'Inventory costs', 'Setup costs', 'Total costs', '%setup/total'])\n",
    "\n",
    "# Store result in dataframe\n",
    "for t in periods:\n",
    "    result.loc['Prod quant p1', t] = X[1,t].solution_value\n",
    "    result.loc['Prod quant p2', t] = X[2,t].solution_value\n",
    "    result.loc['Total production', t] = result.loc['Prod quant p1', t] + result.loc['Prod quant p2', t]\n",
    "    result.loc['Inventory p1', t] = Y[1,t].solution_value\n",
    "    result.loc['Inventory p2', t] = Y[2,t].solution_value\n",
    "    result.loc['Inventory costs', t] = result.loc['Inventory p1', t] * c_int[1] + result.loc['Inventory p2', t] * c_int[2]\n",
    "    result.loc['Setup costs', t] = sum(c_setup[p] * T[p,t].solution_value for p in products)\n",
    "    result.loc['Total costs', t] = result.loc['Inventory costs', t] + result.loc['Setup costs', t]\n",
    "    result.loc['%setup/total', t] = result.loc['Setup costs', t] / result.loc['Total costs', t]\n",
    "\n",
    "result['All periods'] = result.sum(axis=1)\n",
    "result.loc['%setup/total', 'All periods'] = result.loc['Setup costs', 'All periods'] / result.loc['Total costs', 'All periods']\n",
    "result"
   ]
  },
  {
   "cell_type": "markdown",
   "id": "7c3137f8",
   "metadata": {},
   "source": [
    "## Part b: Sensitivity test"
   ]
  },
  {
   "cell_type": "code",
   "execution_count": 17,
   "id": "c7285fab",
   "metadata": {},
   "outputs": [
    {
     "data": {
      "text/html": [
       "<div>\n",
       "<style scoped>\n",
       "    .dataframe tbody tr th:only-of-type {\n",
       "        vertical-align: middle;\n",
       "    }\n",
       "\n",
       "    .dataframe tbody tr th {\n",
       "        vertical-align: top;\n",
       "    }\n",
       "\n",
       "    .dataframe thead th {\n",
       "        text-align: right;\n",
       "    }\n",
       "</style>\n",
       "<table border=\"1\" class=\"dataframe\">\n",
       "  <thead>\n",
       "    <tr style=\"text-align: right;\">\n",
       "      <th></th>\n",
       "      <th>Inventory costs i</th>\n",
       "      <th>Total costs</th>\n",
       "    </tr>\n",
       "  </thead>\n",
       "  <tbody>\n",
       "    <tr>\n",
       "      <th>-1</th>\n",
       "      <td>0</td>\n",
       "      <td>280000.0</td>\n",
       "    </tr>\n",
       "    <tr>\n",
       "      <th>0</th>\n",
       "      <td>1</td>\n",
       "      <td>480280.0</td>\n",
       "    </tr>\n",
       "    <tr>\n",
       "      <th>1</th>\n",
       "      <td>2</td>\n",
       "      <td>591120.0</td>\n",
       "    </tr>\n",
       "    <tr>\n",
       "      <th>2</th>\n",
       "      <td>3</td>\n",
       "      <td>676680.0</td>\n",
       "    </tr>\n",
       "    <tr>\n",
       "      <th>3</th>\n",
       "      <td>4</td>\n",
       "      <td>762240.0</td>\n",
       "    </tr>\n",
       "    <tr>\n",
       "      <th>4</th>\n",
       "      <td>5</td>\n",
       "      <td>847800.0</td>\n",
       "    </tr>\n",
       "    <tr>\n",
       "      <th>5</th>\n",
       "      <td>6</td>\n",
       "      <td>933360.0</td>\n",
       "    </tr>\n",
       "    <tr>\n",
       "      <th>6</th>\n",
       "      <td>7</td>\n",
       "      <td>1018920.0</td>\n",
       "    </tr>\n",
       "    <tr>\n",
       "      <th>7</th>\n",
       "      <td>8</td>\n",
       "      <td>1104480.0</td>\n",
       "    </tr>\n",
       "    <tr>\n",
       "      <th>8</th>\n",
       "      <td>9</td>\n",
       "      <td>1190040.0</td>\n",
       "    </tr>\n",
       "    <tr>\n",
       "      <th>9</th>\n",
       "      <td>10</td>\n",
       "      <td>1275600.0</td>\n",
       "    </tr>\n",
       "    <tr>\n",
       "      <th>10</th>\n",
       "      <td>11</td>\n",
       "      <td>1361160.0</td>\n",
       "    </tr>\n",
       "    <tr>\n",
       "      <th>11</th>\n",
       "      <td>12</td>\n",
       "      <td>1446720.0</td>\n",
       "    </tr>\n",
       "    <tr>\n",
       "      <th>12</th>\n",
       "      <td>13</td>\n",
       "      <td>1532280.0</td>\n",
       "    </tr>\n",
       "    <tr>\n",
       "      <th>13</th>\n",
       "      <td>14</td>\n",
       "      <td>1617840.0</td>\n",
       "    </tr>\n",
       "    <tr>\n",
       "      <th>14</th>\n",
       "      <td>15</td>\n",
       "      <td>1703400.0</td>\n",
       "    </tr>\n",
       "    <tr>\n",
       "      <th>15</th>\n",
       "      <td>16</td>\n",
       "      <td>1788960.0</td>\n",
       "    </tr>\n",
       "    <tr>\n",
       "      <th>16</th>\n",
       "      <td>17</td>\n",
       "      <td>1874520.0</td>\n",
       "    </tr>\n",
       "    <tr>\n",
       "      <th>17</th>\n",
       "      <td>18</td>\n",
       "      <td>1960080.0</td>\n",
       "    </tr>\n",
       "    <tr>\n",
       "      <th>18</th>\n",
       "      <td>19</td>\n",
       "      <td>2045640.0</td>\n",
       "    </tr>\n",
       "    <tr>\n",
       "      <th>19</th>\n",
       "      <td>20</td>\n",
       "      <td>2131200.0</td>\n",
       "    </tr>\n",
       "  </tbody>\n",
       "</table>\n",
       "</div>"
      ],
      "text/plain": [
       "    Inventory costs i Total costs\n",
       "-1                  0    280000.0\n",
       " 0                  1    480280.0\n",
       " 1                  2    591120.0\n",
       " 2                  3    676680.0\n",
       " 3                  4    762240.0\n",
       " 4                  5    847800.0\n",
       " 5                  6    933360.0\n",
       " 6                  7   1018920.0\n",
       " 7                  8   1104480.0\n",
       " 8                  9   1190040.0\n",
       " 9                 10   1275600.0\n",
       " 10                11   1361160.0\n",
       " 11                12   1446720.0\n",
       " 12                13   1532280.0\n",
       " 13                14   1617840.0\n",
       " 14                15   1703400.0\n",
       " 15                16   1788960.0\n",
       " 16                17   1874520.0\n",
       " 17                18   1960080.0\n",
       " 18                19   2045640.0\n",
       " 19                20   2131200.0"
      ]
     },
     "execution_count": 17,
     "metadata": {},
     "output_type": "execute_result"
    }
   ],
   "source": [
    "sensitivity_test = pd.DataFrame(columns=['Inventory costs i', 'Total costs'])\n",
    "\n",
    "for i in range(0, 21, 1):\n",
    "    Z = model.sum(i * Y[p,t] + c_setup[p] * T[p,t] for p in products for t in periods)\n",
    "    \n",
    "    model.minimize(Z)\n",
    "    \n",
    "    model.solve()\n",
    "    \n",
    "    sensitivity_test.loc[i-1, 'Inventory costs i'] = i\n",
    "    sensitivity_test.loc[i-1, 'Total costs'] = model.objective_value\n",
    "\n",
    "sensitivity_test"
   ]
  },
  {
   "cell_type": "code",
   "execution_count": 19,
   "id": "b9deb104",
   "metadata": {},
   "outputs": [
    {
     "data": {
      "text/plain": [
       "Text(0, 0.5, 'Total costs')"
      ]
     },
     "execution_count": 19,
     "metadata": {},
     "output_type": "execute_result"
    },
    {
     "data": {
      "image/png": "[encoded data removed]",
      "text/plain": [
       "<Figure size 640x480 with 1 Axes>"
      ]
     },
     "metadata": {},
     "output_type": "display_data"
    }
   ],
   "source": [
    "# Visualize sensitivity test result\n",
    "sensitivity_test.plot(x='Inventory costs i', y='Total costs', marker='o')\n",
    "\n",
    "plt.title('Sensitivity test of Inventory costs vs Total costs')\n",
    "plt.xlabel('Inventory costs')\n",
    "plt.ylabel('Total costs')"
   ]
  },
  {
   "cell_type": "markdown",
   "id": "6bf72714",
   "metadata": {},
   "source": [
    "Inventory costs and total costs are nearly perfect linearly related. This is due to the large demand, therefore, no matter how much the inventory cost per unit change, the optimal production quantity remains the same, leanding to the linear relation between inventory costs and total costs."
   ]
  },
  {
   "cell_type": "code",
   "execution_count": null,
   "id": "43c5178c",
   "metadata": {},
   "outputs": [],
   "source": []
  }
 ],
 "metadata": {
  "kernelspec": {
   "display_name": "Python 3 (ipykernel)",
   "language": "python",
   "name": "python3"
  },
  "language_info": {
   "codemirror_mode": {
    "name": "ipython",
    "version": 3
   },
   "file_extension": ".py",
   "mimetype": "text/x-python",
   "name": "python",
   "nbconvert_exporter": "python",
   "pygments_lexer": "ipython3",
   "version": "3.10.9"
  }
 },
 "nbformat": 4,
 "nbformat_minor": 5
}
