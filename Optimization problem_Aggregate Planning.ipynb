{
 "cells": [
  {
   "cell_type": "markdown",
   "id": "8f88a39c",
   "metadata": {},
   "source": [
    "## Part a: Aggregate Planning"
   ]
  },
  {
   "cell_type": "markdown",
   "id": "8ce19c24",
   "metadata": {},
   "source": [
    "### Import all libraries needed"
   ]
  },
  {
   "cell_type": "code",
   "execution_count": 29,
   "id": "f6e426d6",
   "metadata": {},
   "outputs": [],
   "source": [
    "import pandas as pd\n",
    "import numpy as np\n",
    "import matplotlib.pyplot as plt\n",
    "import docplex\n",
    "from docplex.mp.model import Model"
   ]
  },
  {
   "cell_type": "markdown",
   "id": "05fffb9f",
   "metadata": {},
   "source": [
    "### Create a model instance"
   ]
  },
  {
   "cell_type": "code",
   "execution_count": 2,
   "id": "a7bc75e5",
   "metadata": {},
   "outputs": [],
   "source": [
    "model = Model(name = 'optimal_production_quantity')"
   ]
  },
  {
   "cell_type": "markdown",
   "id": "6916effe",
   "metadata": {},
   "source": [
    "### Define sets and parameters"
   ]
  },
  {
   "cell_type": "code",
   "execution_count": 3,
   "id": "887edfcc",
   "metadata": {},
   "outputs": [],
   "source": [
    "# Define indices and parameters\n",
    "periods = [1, 2, 3, 4, 5, 6]\n",
    "\n",
    "products = [1, 2, 3]\n",
    "\n",
    "# Demand of each product in each period\n",
    "demand = pd.DataFrame([[130, 100, 50, 160, 150, 90], [80, 120, 210, 150, 90, 110], [60, 45, 80, 90, 70, 50]], index=products, columns=periods)\n",
    "\n",
    "# Required personnel capacity of each product\n",
    "required_personnel = {1:0.5, 2:1, 3:0.8}\n",
    "\n",
    "# Required technical capacity of each product\n",
    "required_technical = {1:1, 2:0.5, 3:0.8}\n",
    "\n",
    "# Maximum personnel capacity in each period\n",
    "max_personnel_cap = {1:250, 2:250, 3:250, 4:250, 5:250, 6:250}\n",
    "\n",
    "# Maximum technical capacity in each period\n",
    "max_technical_cap = {1:300, 2:300, 3:300, 4:300, 5:300, 6:300}\n",
    "\n",
    "# Maximum overtime in each period\n",
    "max_overtime = {1:100, 2:100, 3:100, 4:100, 5:100, 6:100}\n",
    "\n",
    "# Inventory cost of each product (per unit per period)\n",
    "c_int = {1:800, 2:450, 3:600}\n",
    "\n",
    "# Overtime cost (per unit of overtime)\n",
    "c_overtime = 1000\n",
    "\n",
    "# Initial inventory of each product\n",
    "L0 = {1:20, 2:0, 3:0}"
   ]
  },
  {
   "cell_type": "markdown",
   "id": "c4175e76",
   "metadata": {},
   "source": [
    "### Define decision variables"
   ]
  },
  {
   "cell_type": "code",
   "execution_count": 4,
   "id": "9fcf1011",
   "metadata": {},
   "outputs": [],
   "source": [
    "prod_quant = model.integer_var_matrix(products, periods, name='Production quantity')\n",
    "\n",
    "int_level = model.integer_var_matrix(products, periods, name='Inventory level')\n",
    "\n",
    "ovt_cap = model.integer_var_dict(periods, name='Used additional personnel capacity')"
   ]
  },
  {
   "cell_type": "markdown",
   "id": "d3305355",
   "metadata": {},
   "source": [
    "### Define constraints"
   ]
  },
  {
   "cell_type": "code",
   "execution_count": 5,
   "id": "d87693ba",
   "metadata": {},
   "outputs": [],
   "source": [
    "# Inventory level equation\n",
    "for p in products:\n",
    "    model.add_constraint(int_level[p, 1] == L0[p] + prod_quant[p, 1] - demand.loc[p, 1])\n",
    "\n",
    "for t in range(2, len(periods)+1):\n",
    "    for p in products:\n",
    "        model.add_constraint(int_level[p, t] == int_level[p, t-1] + prod_quant[p, t] - demand.loc[p, t])\n",
    "        \n",
    "\n",
    "# Used personnel capacity constraint\n",
    "for t in periods:\n",
    "    model.add_constraint(model.sum(required_personnel[p] * prod_quant[p, t] for p in products) <= max_personnel_cap[t] + ovt_cap[t])\n",
    "\n",
    "\n",
    "# Used technical capacity constraint\n",
    "for t in periods:\n",
    "    model.add_constraint(model.sum(required_technical[p] * prod_quant[p, t] for p in products) <= max_technical_cap[t])\n",
    "\n",
    "\n",
    "# Used overtime in each period\n",
    "for t in periods:\n",
    "    model.add_constraint(ovt_cap[t] <= max_overtime[t])\n",
    "\n",
    "# Non-negative\n",
    "for p in products:\n",
    "    for t in periods:\n",
    "        model.add_constraint(prod_quant[p, t] >= 0)\n",
    "\n",
    "for p in products:\n",
    "    for t in periods:\n",
    "        model.add_constraint(int_level[p, t] >= 0)\n",
    "\n",
    "for t in periods:\n",
    "    model.add_constraint(ovt_cap[t] >= 0)"
   ]
  },
  {
   "cell_type": "markdown",
   "id": "fd79b825",
   "metadata": {},
   "source": [
    "### Define linear expressions"
   ]
  },
  {
   "cell_type": "code",
   "execution_count": 6,
   "id": "f3561489",
   "metadata": {},
   "outputs": [],
   "source": [
    "inventory_cost = []\n",
    "for t in periods:\n",
    "    for p in products:\n",
    "        c_int_p_per_t = c_int[p] * int_level[p, t]\n",
    "        inventory_cost.append(c_int_p_per_t)\n",
    "\n",
    "\n",
    "overtime_cost = model.sum(c_overtime * ovt_cap[t] for t in periods)\n",
    "\n",
    "production_cost = model.sum(model.sum(inventory_cost) + overtime_cost)"
   ]
  },
  {
   "cell_type": "markdown",
   "id": "9d852cf1",
   "metadata": {},
   "source": [
    "### Define objective function"
   ]
  },
  {
   "cell_type": "code",
   "execution_count": 7,
   "id": "d31b14d3",
   "metadata": {},
   "outputs": [],
   "source": [
    "model.minimize(production_cost)"
   ]
  },
  {
   "cell_type": "markdown",
   "id": "9fbc9f04",
   "metadata": {},
   "source": [
    "### Solve model"
   ]
  },
  {
   "cell_type": "code",
   "execution_count": 8,
   "id": "34229de0",
   "metadata": {},
   "outputs": [],
   "source": [
    "solution = model.solve()"
   ]
  },
  {
   "cell_type": "markdown",
   "id": "d8a428f1",
   "metadata": {},
   "source": [
    "### Postprocessing"
   ]
  },
  {
   "cell_type": "code",
   "execution_count": 9,
   "id": "9ec4e8b2",
   "metadata": {},
   "outputs": [
    {
     "data": {
      "text/plain": [
       "81000.0"
      ]
     },
     "execution_count": 9,
     "metadata": {},
     "output_type": "execute_result"
    }
   ],
   "source": [
    "solution.objective_value"
   ]
  },
  {
   "cell_type": "code",
   "execution_count": 10,
   "id": "2eb21093",
   "metadata": {
    "scrolled": false
   },
   "outputs": [
    {
     "name": "stdout",
     "output_type": "stream",
     "text": [
      "solution for: optimal_production_quantity\n",
      "objective: 81000\n",
      "status: OPTIMAL_SOLUTION(2)\n",
      "Production quantity_1_1=110\n",
      "Production quantity_1_2=100\n",
      "Production quantity_1_3=50\n",
      "Production quantity_1_4=160\n",
      "Production quantity_1_5=150\n",
      "Production quantity_1_6=90\n",
      "Production quantity_2_1=95\n",
      "Production quantity_2_2=164\n",
      "Production quantity_2_3=157\n",
      "Production quantity_2_4=144\n",
      "Production quantity_2_5=90\n",
      "Production quantity_2_6=110\n",
      "Production quantity_3_1=60\n",
      "Production quantity_3_2=45\n",
      "Production quantity_3_3=85\n",
      "Production quantity_3_4=85\n",
      "Production quantity_3_5=70\n",
      "Production quantity_3_6=50\n",
      "Inventory level_2_1=15\n",
      "Inventory level_2_2=59\n",
      "Inventory level_2_3=6\n",
      "Inventory level_3_3=5\n",
      "Used additional personnel capacity_4=42\n",
      "\n"
     ]
    }
   ],
   "source": [
    "print(solution)"
   ]
  },
  {
   "cell_type": "code",
   "execution_count": 11,
   "id": "0961afe4",
   "metadata": {
    "scrolled": true
   },
   "outputs": [
    {
     "name": "stdout",
     "output_type": "stream",
     "text": [
      "* model optimal_production_quantity solved with objective = 81000.000\n"
     ]
    }
   ],
   "source": [
    "model.report()"
   ]
  },
  {
   "cell_type": "code",
   "execution_count": 12,
   "id": "ca323e6f",
   "metadata": {},
   "outputs": [
    {
     "name": "stdout",
     "output_type": "stream",
     "text": [
      "Model: optimal_production_quantity\n",
      " - number of variables: 42\n",
      "   - binary=0, integer=42, continuous=0\n",
      " - number of constraints: 78\n",
      "   - linear=78\n",
      " - parameters: defaults\n",
      " - objective: minimize\n",
      " - problem type is: MILP\n"
     ]
    }
   ],
   "source": [
    "model.print_information()"
   ]
  },
  {
   "cell_type": "code",
   "execution_count": 16,
   "id": "a7fb0c1b",
   "metadata": {},
   "outputs": [
    {
     "name": "stdout",
     "output_type": "stream",
     "text": [
      "The objective value is 81000.0\n",
      "Production quantity for product 1 in period 1 is 110.0\n",
      "Production quantity for product 2 in period 1 is 95.0\n",
      "Production quantity for product 3 in period 1 is 60.0\n",
      "Production quantity for product 1 in period 2 is 100.0\n",
      "Production quantity for product 2 in period 2 is 164.0\n",
      "Production quantity for product 3 in period 2 is 45.0\n",
      "Production quantity for product 1 in period 3 is 50.0\n",
      "Production quantity for product 2 in period 3 is 157.0\n",
      "Production quantity for product 3 in period 3 is 85.0\n",
      "Production quantity for product 1 in period 4 is 160.0\n",
      "Production quantity for product 2 in period 4 is 144.0\n",
      "Production quantity for product 3 in period 4 is 85.0\n",
      "Production quantity for product 1 in period 5 is 150.0\n",
      "Production quantity for product 2 in period 5 is 90.0\n",
      "Production quantity for product 3 in period 5 is 70.0\n",
      "Production quantity for product 1 in period 6 is 90.0\n",
      "Production quantity for product 2 in period 6 is 110.0\n",
      "Production quantity for product 3 in period 6 is 50.0\n",
      "Inventory level for product 2 in period 1 is 15.0\n",
      "Inventory level for product 2 in period 2 is 59.0\n",
      "Inventory level for product 2 in period 3 is 6.0\n",
      "Inventory level for product 3 in period 3 is 5.0\n",
      "Used additional personnel capacity in period 4 is 42.0\n"
     ]
    }
   ],
   "source": [
    "print('The objective value is', model.objective_value)\n",
    "for t in periods:\n",
    "    for p in products:\n",
    "        print(f'Production quantity for product {p} in period {t} is {prod_quant[p, t].solution_value}')\n",
    "\n",
    "\n",
    "for t in periods:\n",
    "    for p in products:\n",
    "        if int_level[p,t].solution_value != 0:\n",
    "            print(f'Inventory level for product {p} in period {t} is {int_level[p, t].solution_value}')\n",
    "\n",
    "\n",
    "for t in periods:\n",
    "    if ovt_cap[t].solution_value != 0:\n",
    "        print(f'Used additional personnel capacity in period {t} is {ovt_cap[t].solution_value}')\n"
   ]
  },
  {
   "cell_type": "markdown",
   "id": "139cde1c",
   "metadata": {},
   "source": [
    "### Store result in a different DataFrame"
   ]
  },
  {
   "cell_type": "code",
   "execution_count": 18,
   "id": "bf0e30eb",
   "metadata": {},
   "outputs": [],
   "source": [
    "# Initialize empty dataframes to store results\n",
    "result_production = pd.DataFrame(columns=[])\n",
    "result_inventory = pd.DataFrame(columns=[])\n",
    "result_overtime = pd.DataFrame(columns=[])\n",
    "\n",
    "# Assign results into dataframes\n",
    "for t in periods:\n",
    "    for p in products:\n",
    "        result_production.loc[p,t] = prod_quant[p,t].solution_value\n",
    "        result_inventory.loc[p,t] = int_level[p,t].solution_value\n",
    "\n",
    "for t in periods:\n",
    "    result_overtime.loc['Overtime used',t] = ovt_cap[t].solution_value\n"
   ]
  },
  {
   "cell_type": "code",
   "execution_count": 20,
   "id": "19855ec8",
   "metadata": {},
   "outputs": [
    {
     "name": "stdout",
     "output_type": "stream",
     "text": [
      "Production quantity\n",
      "       1      2      3      4      5      6\n",
      "1  110.0  100.0   50.0  160.0  150.0   90.0\n",
      "2   95.0  164.0  157.0  144.0   90.0  110.0\n",
      "3   60.0   45.0   85.0   85.0   70.0   50.0\n"
     ]
    }
   ],
   "source": [
    "# Production quantity\n",
    "print('Production quantity')\n",
    "print(result_production)"
   ]
  },
  {
   "cell_type": "code",
   "execution_count": 21,
   "id": "0c19d798",
   "metadata": {},
   "outputs": [
    {
     "name": "stdout",
     "output_type": "stream",
     "text": [
      "Inventory level\n",
      "      1     2    3    4    5    6\n",
      "1   0.0   0.0  0.0  0.0  0.0  0.0\n",
      "2  15.0  59.0  6.0  0.0  0.0  0.0\n",
      "3   0.0   0.0  5.0  0.0  0.0  0.0\n"
     ]
    }
   ],
   "source": [
    "# Inventory level\n",
    "print('Inventory level')\n",
    "print(result_inventory)"
   ]
  },
  {
   "cell_type": "code",
   "execution_count": 22,
   "id": "1187b10a",
   "metadata": {},
   "outputs": [
    {
     "name": "stdout",
     "output_type": "stream",
     "text": [
      "Overtime used\n",
      "                 1    2    3     4    5    6\n",
      "Overtime used  0.0  0.0  0.0  42.0  0.0  0.0\n"
     ]
    }
   ],
   "source": [
    "# Overtime used\n",
    "print('Overtime used')\n",
    "print(result_overtime)"
   ]
  },
  {
   "cell_type": "markdown",
   "id": "df53b9f1",
   "metadata": {},
   "source": [
    "## Part b: Sensitivity analysis"
   ]
  },
  {
   "cell_type": "markdown",
   "id": "e4c4b401",
   "metadata": {},
   "source": [
    "### Initialize an object to store results"
   ]
  },
  {
   "cell_type": "code",
   "execution_count": 24,
   "id": "bec442d8",
   "metadata": {},
   "outputs": [],
   "source": [
    "output = pd.DataFrame(columns = ['Cost of overtime u', 'Total relevant cost'])"
   ]
  },
  {
   "cell_type": "markdown",
   "id": "107f34df",
   "metadata": {},
   "source": [
    "### Loop & Store result"
   ]
  },
  {
   "cell_type": "code",
   "execution_count": 26,
   "id": "a237f1d5",
   "metadata": {},
   "outputs": [],
   "source": [
    "for u in range(1, 21):\n",
    "    # Define linear expression\n",
    "    total_relevant_cost = model.sum(model.sum(c_int[p] * int_level[p,t] for p in products for t in periods) + model.sum(u*100*ovt_cap[t] for t in periods))\n",
    "    \n",
    "    # Define solution objective function\n",
    "    model.minimize(total_relevant_cost)\n",
    "    \n",
    "    # Solve the model\n",
    "    model.solve()\n",
    "    \n",
    "    # Store result\n",
    "    output.loc[u-1, 'Cost of overtime u'] = u*100\n",
    "    output.loc[u-1, 'Total relevant cost'] = model.objective_value\n",
    "    \n",
    "    "
   ]
  },
  {
   "cell_type": "markdown",
   "id": "0941d013",
   "metadata": {},
   "source": [
    "### Postprocessing"
   ]
  },
  {
   "cell_type": "code",
   "execution_count": 27,
   "id": "4d09f0a7",
   "metadata": {},
   "outputs": [
    {
     "name": "stdout",
     "output_type": "stream",
     "text": [
      "   Cost of overtime u Total relevant cost\n",
      "0                 100             15600.0\n",
      "1                 200             25700.0\n",
      "2                 300             35800.0\n",
      "3                 400             45900.0\n",
      "4                 500             53800.0\n",
      "5                 600             59500.0\n",
      "6                 700             65200.0\n",
      "7                 800             70900.0\n",
      "8                 900             76600.0\n",
      "9                1000             81000.0\n",
      "10               1100             85000.0\n",
      "11               1200             88800.0\n",
      "12               1300             92600.0\n",
      "13               1400             94500.0\n",
      "14               1500             94500.0\n",
      "15               1600             94500.0\n",
      "16               1700             94500.0\n",
      "17               1800             94500.0\n",
      "18               1900             94500.0\n",
      "19               2000             94500.0\n"
     ]
    }
   ],
   "source": [
    "print(output)"
   ]
  },
  {
   "cell_type": "code",
   "execution_count": 34,
   "id": "16a65c1b",
   "metadata": {},
   "outputs": [
    {
     "data": {
      "text/plain": [
       "Text(0, 0.5, 'Total relevant cost')"
      ]
     },
     "execution_count": 34,
     "metadata": {},
     "output_type": "execute_result"
    },
    {
     "data": {
      "image/png": "[encoded data removed]",
      "text/plain": [
       "<Figure size 640x480 with 1 Axes>"
      ]
     },
     "metadata": {},
     "output_type": "display_data"
    }
   ],
   "source": [
    "plt.plot(output['Cost of overtime u'], output['Total relevant cost'], marker='o')\n",
    "\n",
    "plt.title('Sensitivity test: Cost of overtime vs Total relevant cost')\n",
    "plt.xlabel('Cost of overtime')\n",
    "plt.ylabel('Total relevant cost')"
   ]
  },
  {
   "cell_type": "code",
   "execution_count": null,
   "id": "38cc47c1",
   "metadata": {},
   "outputs": [],
   "source": []
  }
 ],
 "metadata": {
  "kernelspec": {
   "display_name": "Python 3 (ipykernel)",
   "language": "python",
   "name": "python3"
  },
  "language_info": {
   "codemirror_mode": {
    "name": "ipython",
    "version": 3
   },
   "file_extension": ".py",
   "mimetype": "text/x-python",
   "name": "python",
   "nbconvert_exporter": "python",
   "pygments_lexer": "ipython3",
   "version": "3.10.9"
  }
 },
 "nbformat": 4,
 "nbformat_minor": 5
}
